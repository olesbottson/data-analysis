{
  "nbformat": 4,
  "nbformat_minor": 0,
  "metadata": {
    "colab": {
      "provenance": [],
      "gpuType": "T4"
    },
    "kernelspec": {
      "name": "python3",
      "display_name": "Python 3"
    },
    "language_info": {
      "name": "python"
    },
    "accelerator": "GPU"
  },
  "cells": [
    {
      "cell_type": "code",
      "source": [
        "import pandas as pd\n",
        "import numpy as np"
      ],
      "metadata": {
        "id": "NjVUbk7kzQcD"
      },
      "execution_count": null,
      "outputs": []
    },
    {
      "cell_type": "code",
      "source": [
        "dataset_test = pd.read_csv(\"fashion-mnist_test.csv\")\n",
        "dataset_train = pd.read_csv(\"fashion-mnist_train.csv\")"
      ],
      "metadata": {
        "id": "-ZHoNtEazTnz"
      },
      "execution_count": null,
      "outputs": []
    },
    {
      "cell_type": "code",
      "source": [
        "list_of_pixel_columns = list(dataset_test.columns)"
      ],
      "metadata": {
        "id": "BLEXL2bp0ZrR"
      },
      "execution_count": null,
      "outputs": []
    },
    {
      "cell_type": "code",
      "source": [
        "list_of_pixel_columns.remove('label')"
      ],
      "metadata": {
        "id": "uGa4Vn0l0205"
      },
      "execution_count": null,
      "outputs": []
    },
    {
      "cell_type": "code",
      "source": [
        "len_of_pixel = len(list_of_pixel_columns)"
      ],
      "metadata": {
        "id": "qkhenjxv1C0q"
      },
      "execution_count": null,
      "outputs": []
    },
    {
      "cell_type": "code",
      "source": [
        "def get_numpy_of_pixels(x):\n",
        "  np_map = np.zeros(len_of_pixel)\n",
        "  for i in range(1, len_of_pixel+1):\n",
        "    np_map[i - 1] = x['pixel' + str(i)]\n",
        "  return np_map"
      ],
      "metadata": {
        "id": "4-pjX4ZA1wOx"
      },
      "execution_count": null,
      "outputs": []
    },
    {
      "cell_type": "code",
      "source": [
        "test_pictures = dataset_test.apply(func = get_numpy_of_pixels , axis=1 )"
      ],
      "metadata": {
        "id": "ji2o3fVEzhWp"
      },
      "execution_count": null,
      "outputs": []
    },
    {
      "cell_type": "code",
      "source": [
        "test_labels = dataset_test['label']"
      ],
      "metadata": {
        "id": "C7KEgJsqOTLy"
      },
      "execution_count": null,
      "outputs": []
    },
    {
      "cell_type": "code",
      "source": [
        "test_labels.value_counts()"
      ],
      "metadata": {
        "colab": {
          "base_uri": "https://localhost:8080/",
          "height": 429
        },
        "id": "GOeo5RfLQBch",
        "outputId": "02721136-4012-4ed6-a81c-91f9e475dc72"
      },
      "execution_count": null,
      "outputs": [
        {
          "output_type": "execute_result",
          "data": {
            "text/plain": [
              "label\n",
              "0    1000\n",
              "1    1000\n",
              "2    1000\n",
              "3    1000\n",
              "8    1000\n",
              "6    1000\n",
              "5    1000\n",
              "4    1000\n",
              "7    1000\n",
              "9    1000\n",
              "Name: count, dtype: int64"
            ],
            "text/html": [
              "<div>\n",
              "<style scoped>\n",
              "    .dataframe tbody tr th:only-of-type {\n",
              "        vertical-align: middle;\n",
              "    }\n",
              "\n",
              "    .dataframe tbody tr th {\n",
              "        vertical-align: top;\n",
              "    }\n",
              "\n",
              "    .dataframe thead th {\n",
              "        text-align: right;\n",
              "    }\n",
              "</style>\n",
              "<table border=\"1\" class=\"dataframe\">\n",
              "  <thead>\n",
              "    <tr style=\"text-align: right;\">\n",
              "      <th></th>\n",
              "      <th>count</th>\n",
              "    </tr>\n",
              "    <tr>\n",
              "      <th>label</th>\n",
              "      <th></th>\n",
              "    </tr>\n",
              "  </thead>\n",
              "  <tbody>\n",
              "    <tr>\n",
              "      <th>0</th>\n",
              "      <td>1000</td>\n",
              "    </tr>\n",
              "    <tr>\n",
              "      <th>1</th>\n",
              "      <td>1000</td>\n",
              "    </tr>\n",
              "    <tr>\n",
              "      <th>2</th>\n",
              "      <td>1000</td>\n",
              "    </tr>\n",
              "    <tr>\n",
              "      <th>3</th>\n",
              "      <td>1000</td>\n",
              "    </tr>\n",
              "    <tr>\n",
              "      <th>8</th>\n",
              "      <td>1000</td>\n",
              "    </tr>\n",
              "    <tr>\n",
              "      <th>6</th>\n",
              "      <td>1000</td>\n",
              "    </tr>\n",
              "    <tr>\n",
              "      <th>5</th>\n",
              "      <td>1000</td>\n",
              "    </tr>\n",
              "    <tr>\n",
              "      <th>4</th>\n",
              "      <td>1000</td>\n",
              "    </tr>\n",
              "    <tr>\n",
              "      <th>7</th>\n",
              "      <td>1000</td>\n",
              "    </tr>\n",
              "    <tr>\n",
              "      <th>9</th>\n",
              "      <td>1000</td>\n",
              "    </tr>\n",
              "  </tbody>\n",
              "</table>\n",
              "</div><br><label><b>dtype:</b> int64</label>"
            ]
          },
          "metadata": {},
          "execution_count": 73
        }
      ]
    },
    {
      "cell_type": "code",
      "source": [
        "train_pictures = dataset_train.apply(func = get_numpy_of_pixels , axis=1 )\n",
        "train_labels = dataset_train['label']"
      ],
      "metadata": {
        "id": "hEleWF_D5inv"
      },
      "execution_count": null,
      "outputs": []
    },
    {
      "cell_type": "code",
      "source": [
        "sample = test_pictures[113].reshape(28,28)"
      ],
      "metadata": {
        "id": "lvXv_1EH2k9w"
      },
      "execution_count": null,
      "outputs": []
    },
    {
      "cell_type": "code",
      "source": [
        "import matplotlib.pyplot as plt\n",
        "import numpy as np\n",
        "\n",
        "\n",
        "# Create a pixel map\n",
        "plt.imshow(sample, cmap='gray', interpolation='nearest', aspect='equal')\n",
        "plt.colorbar(label='Значение шкалы серого') # Add a colorbar to show the mapping\n",
        "plt.title('Образец изображения из датасета')\n",
        "plt.xlabel('ось X')\n",
        "plt.ylabel('ось Y')\n",
        "plt.show()"
      ],
      "metadata": {
        "colab": {
          "base_uri": "https://localhost:8080/",
          "height": 472
        },
        "id": "00PHBc3A22rI",
        "outputId": "199e612b-503a-4d63-b7de-b82fa9d034c3"
      },
      "execution_count": null,
      "outputs": [
        {
          "output_type": "display_data",
          "data": {
            "text/plain": [
              "<Figure size 640x480 with 2 Axes>"
            ],
            "image/png": "[encoded data removed]"
          },
          "metadata": {}
        }
      ]
    },
    {
      "cell_type": "code",
      "source": [
        "test_pictures_numpy = np.vstack(test_pictures.values)\n",
        "train_pictures_numpy = np.vstack(train_pictures.values)\n",
        "train_labels_numpy =  np.vstack(train_labels.values)"
      ],
      "metadata": {
        "id": "AGbDFpsZAaQx"
      },
      "execution_count": null,
      "outputs": []
    },
    {
      "cell_type": "code",
      "source": [
        "test_labels_numpy = np.vstack(test_labels.values)"
      ],
      "metadata": {
        "id": "bq36to-GOeDC"
      },
      "execution_count": null,
      "outputs": []
    },
    {
      "cell_type": "code",
      "source": [
        "import torch\n",
        "import torch.nn as nn"
      ],
      "metadata": {
        "id": "b5HidVrELJCL"
      },
      "execution_count": null,
      "outputs": []
    },
    {
      "cell_type": "code",
      "source": [
        "device = ''\n",
        "if torch.cuda.is_available():\n",
        "    device = torch.device('cuda')\n",
        "else:\n",
        "    device = torch.device('cpu')"
      ],
      "metadata": {
        "id": "xIIP0ZSCK-LU"
      },
      "execution_count": null,
      "outputs": []
    },
    {
      "cell_type": "code",
      "source": [
        "test_pictures_torch = torch.from_numpy(test_pictures_numpy).to(dtype=torch.float32).to(device)\n",
        "train_pictures_torch = torch.from_numpy(train_pictures_numpy).to(dtype=torch.float32).to(device)\n",
        "train_labels_torch = torch.from_numpy(train_labels_numpy).to(device)"
      ],
      "metadata": {
        "id": "XPXvoY9v7vpW"
      },
      "execution_count": null,
      "outputs": []
    },
    {
      "cell_type": "code",
      "source": [
        "test_labels_torch = torch.from_numpy(test_labels_numpy).to(device)"
      ],
      "metadata": {
        "id": "EXsqMconOiby"
      },
      "execution_count": null,
      "outputs": []
    },
    {
      "cell_type": "code",
      "source": [
        "test_pictures_torch = test_pictures_torch.reshape(-1, 1, 28, 28)\n",
        "train_pictures_torch = train_pictures_torch.reshape(-1, 1, 28, 28)"
      ],
      "metadata": {
        "id": "FqUTkdl0I0kd"
      },
      "execution_count": null,
      "outputs": []
    },
    {
      "cell_type": "code",
      "source": [
        "train_pictures_torch.shape"
      ],
      "metadata": {
        "colab": {
          "base_uri": "https://localhost:8080/"
        },
        "id": "kEmx5OUpGbLO",
        "outputId": "e7d37ff7-8fef-4e55-b329-60cccb6c5f12"
      },
      "execution_count": null,
      "outputs": [
        {
          "output_type": "execute_result",
          "data": {
            "text/plain": [
              "torch.Size([60000, 1, 28, 28])"
            ]
          },
          "metadata": {},
          "execution_count": 56
        }
      ]
    },
    {
      "cell_type": "code",
      "source": [
        "train_pictures_torch.dtype"
      ],
      "metadata": {
        "colab": {
          "base_uri": "https://localhost:8080/"
        },
        "id": "TCittHaRA1ZR",
        "outputId": "90b16a3b-2877-4b5c-bcb6-ba1ad6afcaa3"
      },
      "execution_count": null,
      "outputs": [
        {
          "output_type": "execute_result",
          "data": {
            "text/plain": [
              "torch.float32"
            ]
          },
          "metadata": {},
          "execution_count": 57
        }
      ]
    },
    {
      "cell_type": "code",
      "source": [
        "import torch.nn as nn\n",
        "import torch.nn.functional as F\n",
        "\n",
        "# Define a simple feed-forward network\n",
        "model = nn.Sequential(\n",
        "\n",
        "       nn.Conv2d(1, 6, 5),\n",
        "       nn.MaxPool2d(2, 2),\n",
        "       nn.Conv2d(6, 8, 5),\n",
        "\n",
        "       nn.Flatten(),\n",
        "\n",
        "       nn.Linear( 512, 10),\n",
        "       nn.LogSoftmax()\n",
        ")"
      ],
      "metadata": {
        "id": "tatoM6eN5R2n"
      },
      "execution_count": null,
      "outputs": []
    },
    {
      "cell_type": "code",
      "source": [
        "from torch.utils.data import Dataset, DataLoader\n",
        "\n",
        "class MyCustomDataset(Dataset):\n",
        "    def __init__(self, data, labels):\n",
        "        self.data = data\n",
        "        self.labels = labels\n",
        "\n",
        "    def __len__(self):\n",
        "        return len(self.data)\n",
        "\n",
        "    def __getitem__(self, idx):\n",
        "        sample = self.data[idx]\n",
        "        label = self.labels[idx]\n",
        "        return sample, label"
      ],
      "metadata": {
        "id": "4xslPCE963TO"
      },
      "execution_count": null,
      "outputs": []
    },
    {
      "cell_type": "code",
      "source": [
        "dataset = MyCustomDataset(train_pictures_torch, train_labels_torch)\n",
        "batch_size = 32\n"
      ],
      "metadata": {
        "id": "XO8Gdm1x7joV"
      },
      "execution_count": null,
      "outputs": []
    },
    {
      "cell_type": "code",
      "source": [
        "from torch.utils.data import random_split\n",
        "train_len = int(0.8 * len(dataset) )\n",
        "train_dataset, val_dataset = random_split(dataset, [train_len, len(dataset) - train_len ])\n"
      ],
      "metadata": {
        "id": "S5ZmmT4mSmuo"
      },
      "execution_count": null,
      "outputs": []
    },
    {
      "cell_type": "code",
      "source": [
        "train_dataloader = DataLoader(train_dataset, batch_size=batch_size, shuffle=True)\n",
        "val_dataloader =  DataLoader(val_dataset, batch_size=batch_size, shuffle=True)"
      ],
      "metadata": {
        "id": "kiZhX5LFTuiP"
      },
      "execution_count": null,
      "outputs": []
    },
    {
      "cell_type": "code",
      "source": [
        "model.to(device)"
      ],
      "metadata": {
        "colab": {
          "base_uri": "https://localhost:8080/"
        },
        "id": "WZMdJXEKLcDT",
        "outputId": "8a2a380b-4851-49ab-e5b8-47f4d87b5a15"
      },
      "execution_count": null,
      "outputs": [
        {
          "output_type": "execute_result",
          "data": {
            "text/plain": [
              "Sequential(\n",
              "  (0): Conv2d(1, 6, kernel_size=(5, 5), stride=(1, 1))\n",
              "  (1): MaxPool2d(kernel_size=2, stride=2, padding=0, dilation=1, ceil_mode=False)\n",
              "  (2): Conv2d(6, 8, kernel_size=(5, 5), stride=(1, 1))\n",
              "  (3): Flatten(start_dim=1, end_dim=-1)\n",
              "  (4): Linear(in_features=512, out_features=10, bias=True)\n",
              "  (5): LogSoftmax(dim=None)\n",
              ")"
            ]
          },
          "metadata": {},
          "execution_count": 242
        }
      ]
    },
    {
      "cell_type": "code",
      "source": [
        "criterion = nn.NLLLoss()\n",
        "optimizer = torch.optim.Adam(model.parameters(), lr=0.0005)"
      ],
      "metadata": {
        "id": "y5k43Okf8gEF"
      },
      "execution_count": null,
      "outputs": []
    },
    {
      "cell_type": "code",
      "source": [
        "prev_val_loss = 1000000000\n",
        "\n",
        "train_losses = []\n",
        "val_losses = []\n",
        "\n",
        "for epochs in range(0, 100):\n",
        "\n",
        "\n",
        "  train_loss = 0\n",
        "\n",
        "  for batch_data, batch_labels in train_dataloader:\n",
        "    outputs = model(batch_data)\n",
        "\n",
        "    #print(outputs.shape)\n",
        "\n",
        "    loss = criterion(outputs, batch_labels.reshape(-1))\n",
        "\n",
        "    train_loss +=  loss.detach().cpu().item()\n",
        "\n",
        "    # Backward and optimize\n",
        "    optimizer.zero_grad()\n",
        "    loss.backward()\n",
        "    optimizer.step()\n",
        "\n",
        "  train_loss = train_loss / len(train_dataset)\n",
        "\n",
        "  train_losses.append(train_loss)\n",
        "\n",
        "  print(train_loss)\n",
        "\n",
        "  if epochs % 1 == 0:\n",
        "    val_correct = 0\n",
        "    val_loss = 0\n",
        "    total = 0\n",
        "    with torch.no_grad():\n",
        "      for batch_data, batch_labels in val_dataloader:\n",
        "        outputs = model(batch_data)\n",
        "\n",
        "        loss = criterion(outputs, batch_labels.reshape(-1))\n",
        "\n",
        "        predicted = torch.argmax(outputs, dim=1)\n",
        "        val_correct += (predicted == batch_labels.reshape(-1)).sum().item()\n",
        "\n",
        "        #print(predicted.shape)\n",
        "        #print(batch_labels.shape)\n",
        "        #print((predicted == batch_labels).sum())\n",
        "\n",
        "        total += batch_labels.reshape(-1).shape[0]\n",
        "\n",
        "        val_loss +=  loss.detach().cpu().item()\n",
        "\n",
        "      print('correct = ', val_correct, 'total', total)\n",
        "\n",
        "      val_loss = val_loss / len(val_dataset)\n",
        "\n",
        "\n",
        "    val_losses.append(val_loss)\n",
        "\n",
        "    if(val_loss > prev_val_loss ):\n",
        "      break\n",
        "\n",
        "    prev_val_loss = val_loss\n"
      ],
      "metadata": {
        "colab": {
          "base_uri": "https://localhost:8080/"
        },
        "id": "DZpHcCyi6fNm",
        "outputId": "79d28452-b61f-440a-a9b4-a6b9932a487b",
        "collapsed": true
      },
      "execution_count": null,
      "outputs": [
        {
          "output_type": "stream",
          "name": "stdout",
          "text": [
            "0.03993191628778974\n",
            "correct =  9811 total 12000\n",
            "0.01570695408123235\n",
            "correct =  10159 total 12000\n",
            "0.013799781280569733\n",
            "correct =  10127 total 12000\n"
          ]
        }
      ]
    },
    {
      "cell_type": "code",
      "source": [],
      "metadata": {
        "id": "zJq8NpMRObfa"
      },
      "execution_count": null,
      "outputs": []
    },
    {
      "cell_type": "code",
      "source": [
        "from matplotlib.ticker import MaxNLocator\n",
        "\n",
        "plt.plot(range(len(train_losses)), train_losses)\n",
        "plt.plot(range(len(val_losses)), val_losses)\n",
        "ax = plt.gca()\n",
        "ax.xaxis.set_major_locator(MaxNLocator(integer=True))\n",
        "\n",
        "plt.ylabel('Значение функции потери')\n",
        "plt.xlabel('Эпохи обучения')\n",
        "plt.title('Зависимость функции потери от эпохи обучения')\n",
        "plt.show()"
      ],
      "metadata": {
        "colab": {
          "base_uri": "https://localhost:8080/",
          "height": 472
        },
        "id": "R7zOMQ25V73-",
        "outputId": "2b5dbb75-98b7-47aa-a082-a1bc53aba59c"
      },
      "execution_count": null,
      "outputs": [
        {
          "output_type": "display_data",
          "data": {
            "text/plain": [
              "<Figure size 640x480 with 1 Axes>"
            ],
            "image/png": "[encoded data removed]"
          },
          "metadata": {}
        }
      ]
    },
    {
      "cell_type": "code",
      "source": [
        "train_losses"
      ],
      "metadata": {
        "colab": {
          "base_uri": "https://localhost:8080/"
        },
        "id": "jNUWu9nbXYtt",
        "outputId": "18308152-a484-4de9-da55-6c08f67d4a92"
      },
      "execution_count": null,
      "outputs": [
        {
          "output_type": "execute_result",
          "data": {
            "text/plain": [
              "[0.03993191628778974, 0.01570695408123235, 0.013799781280569733]"
            ]
          },
          "metadata": {},
          "execution_count": 246
        }
      ]
    },
    {
      "cell_type": "code",
      "source": [
        "val_losses"
      ],
      "metadata": {
        "colab": {
          "base_uri": "https://localhost:8080/"
        },
        "id": "3gIC78JkXWpF",
        "outputId": "b82c316c-5578-4c24-80de-acfe983608fa"
      },
      "execution_count": null,
      "outputs": [
        {
          "output_type": "execute_result",
          "data": {
            "text/plain": [
              "[0.018304471130793292, 0.014521460993215442, 0.014720512634143233]"
            ]
          },
          "metadata": {},
          "execution_count": 247
        }
      ]
    },
    {
      "cell_type": "code",
      "source": [],
      "metadata": {
        "id": "QADpp38dV70W"
      },
      "execution_count": null,
      "outputs": []
    },
    {
      "cell_type": "code",
      "source": [
        "test_dataset = MyCustomDataset(test_pictures_torch, test_labels_torch)\n",
        "test_dataloader = DataLoader(test_dataset, batch_size=batch_size, shuffle=True)"
      ],
      "metadata": {
        "id": "rYoZxFhmORd6"
      },
      "execution_count": null,
      "outputs": []
    },
    {
      "cell_type": "code",
      "source": [
        "correct = 0\n",
        "total = 0\n",
        "with torch.no_grad():\n",
        "  for batch_data, batch_labels in test_dataloader:\n",
        "    outputs = model(batch_data)\n",
        "    predicted = torch.argmax(outputs, dim=1)\n",
        "\n",
        "    correct += (predicted == batch_labels.reshape(-1)).sum().item()\n",
        "\n",
        "    total += batch_labels.reshape(-1).shape[0]\n",
        "\n",
        "print('correct = ', correct, 'total', total)"
      ],
      "metadata": {
        "colab": {
          "base_uri": "https://localhost:8080/"
        },
        "id": "kNbH5KgeOMmD",
        "outputId": "3bbcc082-c707-461e-b76d-cbdf92cb4a05"
      },
      "execution_count": null,
      "outputs": [
        {
          "output_type": "stream",
          "name": "stdout",
          "text": [
            "correct =  8456 total 10000\n"
          ]
        }
      ]
    }
  ]
}